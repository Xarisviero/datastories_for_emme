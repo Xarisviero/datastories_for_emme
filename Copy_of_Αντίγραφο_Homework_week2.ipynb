{
  "nbformat": 4,
  "nbformat_minor": 0,
  "metadata": {
    "colab": {
      "provenance": [],
      "include_colab_link": true
    },
    "kernelspec": {
      "name": "python3",
      "display_name": "Python 3"
    },
    "language_info": {
      "name": "python"
    }
  },
  "cells": [
    {
      "cell_type": "markdown",
      "metadata": {
        "id": "view-in-github",
        "colab_type": "text"
      },
      "source": [
        "<a href=\"https://colab.research.google.com/github/Xarisviero/datastories_for_emme/blob/main/Copy_of_%CE%91%CE%BD%CF%84%CE%AF%CE%B3%CF%81%CE%B1%CF%86%CE%BF_Homework_week2.ipynb\" target=\"_parent\"><img src=\"https://colab.research.google.com/assets/colab-badge.svg\" alt=\"Open In Colab\"/></a>"
      ]
    },
    {
      "cell_type": "markdown",
      "source": [
        "**Άσκηση 1**\n",
        "\n",
        "1. Σε ένα νέο κελί κώδικα, ξαναγράψτε τον παρακάτω κώδικα, έτσι ώστε να τρέχει χωρίς να πετάει error."
      ],
      "metadata": {
        "id": "RNY03X7pKHnf"
      }
    },
    {
      "cell_type": "code",
      "source": [
        "myname = \"Vasilis\"\n",
        "myemail = \"bill2005@example.com\"\n",
        "myAMfourfirstdigits = 9983\n",
        "twoFavoriteMovies = \"Life of Bryan\" = \"The meaning of life\""
      ],
      "metadata": {
        "id": "1duhjtEIKNJx"
      },
      "execution_count": null,
      "outputs": []
    },
    {
      "cell_type": "code",
      "source": [
        "myname= \"Vasilis\"\n",
        "myemail= \"bill2005@example.com\"\n",
        "myAM_4firstdigits = 9983\n",
        "twoFavoriteMovies= \"LifeofBrian\" + \"Themeanimgoflife\""
      ],
      "metadata": {
        "id": "O3sT27OTWqz9"
      },
      "execution_count": null,
      "outputs": []
    },
    {
      "cell_type": "markdown",
      "source": [
        "2. Tυπώστε (print) τον τύπο δεδομένων καθεμιάς από τις παραπάνω μεταβλητές"
      ],
      "metadata": {
        "id": "uWOJYGCtPaS8"
      }
    },
    {
      "cell_type": "markdown",
      "source": [
        "**Άσκηση 2**\n",
        "- Βρείτε ένα άρθρο σε ένα ειδησεογραφικό site.\n",
        "- Φτιάξτε ένα νέο κελί κώδικα (ή όσα θέλετε) ακριβώς κάτω από αυτό και δημιουργήστε μεταβλητές με τα εξής στοιχεία:\n",
        "  - Τίτλος άρθρου\n",
        "  - Ημερομηνία δημοσίευσης\n",
        "  - Όνομα site\n",
        "  - url άρθρου\n",
        "- Τυπώστε (print) μια πρόταση της μορφής: Το άρθρο τάδε δημοσιεύτηκε στο τάδε site την τάδε ημερομηνία και βρίσκεται στην τάδε ηλεκτρονική διεύθυνση."
      ],
      "metadata": {
        "id": "iKYSWrCOLxwA"
      }
    },
    {
      "cell_type": "code",
      "source": [
        "headlineofariticle= \"ΗχρυσήκαρδιάτουΣκοτΠόρλαντ\"\n",
        "published= \"24/3/2024\"\n",
        "webpage= \"gazzeta\"\n",
        "url= \"https://www.gazzetta.gr/2317559/i-hrysi-kardia-toy-skot-polarnt\"\n",
        "print(headlineofariticle, published, webpage, url)"
      ],
      "metadata": {
        "id": "RkatxsP0iJDc",
        "colab": {
          "base_uri": "https://localhost:8080/"
        },
        "outputId": "902514b1-d011-4d7d-b737-86328f347de3"
      },
      "execution_count": null,
      "outputs": [
        {
          "output_type": "stream",
          "name": "stdout",
          "text": [
            "ΗχρυσήκαρδιάτουΣκοτΠόρλαντ 24/3/2024 gazzeta https://www.gazzetta.gr/2317559/i-hrysi-kardia-toy-skot-polarnt\n"
          ]
        }
      ]
    },
    {
      "cell_type": "markdown",
      "source": [
        "**Άσκηση 3**\n",
        "\n",
        "Σε ένα νέο κελί, μετατρέψτε τον τύπο της μεταβλητής ή των μεταβλητών που απαιτείται, έτσι ώστε να μπορεί να εκτελεστεί σωστά η παρακάτω πράξη:\n",
        "\n",
        "(μην γράψετε σωστά την τιμή της/τους - αλλάξτε τον τύπο δεδομένων)\n",
        "(Tip: κάνετε copy-paste τις 2 τελευταίες γραμμές και κάνετε τη διόρθωση που απαιτείται στην προτελευταία γραμμή)"
      ],
      "metadata": {
        "id": "pklY5u3eQKLZ"
      }
    },
    {
      "cell_type": "code",
      "source": [
        "monthly_rent = \"300\"\n",
        "months = 12\n",
        "yearly_rent = monthly_rent * months\n",
        "print(yearly_rent)"
      ],
      "metadata": {
        "colab": {
          "base_uri": "https://localhost:8080/",
          "height": 106
        },
        "id": "aLfDQbayNkVd",
        "outputId": "f0405798-28ad-4b4e-8ec0-41cc3af93b15"
      },
      "execution_count": null,
      "outputs": [
        {
          "output_type": "error",
          "ename": "SyntaxError",
          "evalue": "invalid syntax (<ipython-input-20-3b7c6acaaca5>, line 3)",
          "traceback": [
            "\u001b[0;36m  File \u001b[0;32m\"<ipython-input-20-3b7c6acaaca5>\"\u001b[0;36m, line \u001b[0;32m3\u001b[0m\n\u001b[0;31m    yearly_rent = int monthly_rent * months\u001b[0m\n\u001b[0m                      ^\u001b[0m\n\u001b[0;31mSyntaxError\u001b[0m\u001b[0;31m:\u001b[0m invalid syntax\n"
          ]
        }
      ]
    },
    {
      "cell_type": "code",
      "source": [
        "monthly_rent = \"300\"\n",
        "months= 12\n",
        "yearly_rent= int(monthly_rent)*months\n",
        "print(yearly_rent)\n"
      ],
      "metadata": {
        "colab": {
          "base_uri": "https://localhost:8080/"
        },
        "id": "rFCnUJaYabjx",
        "outputId": "f8617f68-7369-45b8-f247-fd96faa3eb8e"
      },
      "execution_count": null,
      "outputs": [
        {
          "output_type": "stream",
          "name": "stdout",
          "text": [
            "3600\n"
          ]
        }
      ]
    },
    {
      "cell_type": "markdown",
      "source": [
        "**Άσκηση 4**\n",
        "\n",
        "1. Βρείτε το αποτέλεσμα της πρόσθεσης του 132 με το 13 και τυπώστε το σαν string (σε μία γραμμή κώδικα)\n",
        "2. Βρείτε το τετράγωνο του πηλίκου της διαίρεσης του παραπάνω αθροίσματος με το υπόλοιπο της διαίρεσης του 132 με το 13 και τυπώστε το σαν δεκαδικό (σε μια γραμμή κώδικα)\n",
        "\n",
        "Tip: μπορείτε να κάνετε μία-μία τις πράξεις ώστε να ελέγχετε ότι το αποτέλεσμα της καθεμίας είναι σωστό και στο τέλος να βάλετε όλες τις εντολές σε μία γραμμή (αναγκαστικά θα υπάρχουν πολλές παρενθέσεις)"
      ],
      "metadata": {
        "id": "4-MexfUhUJr5"
      }
    },
    {
      "cell_type": "code",
      "source": [
        "resultaddition=\"132+13\"\n",
        "type(resultaddition)"
      ],
      "metadata": {
        "colab": {
          "base_uri": "https://localhost:8080/"
        },
        "id": "BEZ-Ts_QAZOx",
        "outputId": "9e570317-9473-4ae8-af2f-608802dc1811"
      },
      "execution_count": null,
      "outputs": [
        {
          "output_type": "execute_result",
          "data": {
            "text/plain": [
              "str"
            ]
          },
          "metadata": {},
          "execution_count": 21
        }
      ]
    },
    {
      "cell_type": "code",
      "source": [
        "resultdivision= (132+13) **2 / (132%13)\n",
        "print(resultdivision)"
      ],
      "metadata": {
        "id": "kj5n08XhBCBA",
        "colab": {
          "base_uri": "https://localhost:8080/"
        },
        "outputId": "814458c1-0086-4c63-9c4d-3846314621de"
      },
      "execution_count": null,
      "outputs": [
        {
          "output_type": "stream",
          "name": "stdout",
          "text": [
            "10512.5\n"
          ]
        }
      ]
    },
    {
      "cell_type": "code",
      "source": [],
      "metadata": {
        "id": "qYeVzY2eyrrl"
      },
      "execution_count": null,
      "outputs": []
    },
    {
      "cell_type": "markdown",
      "source": [
        "**Άσκηση 5**\n",
        "\n",
        "Γράψτε μια γραμμή κώδικα κάτω από το παρακάτω κελί, έτσι ώστε κάθε φορά που θα το τρέχετε, να τυπώνετε (print) η τιμή της μεταβητής counter αυξημένη κατά 1."
      ],
      "metadata": {
        "id": "i9uTmCdLa1F6"
      }
    },
    {
      "cell_type": "code",
      "source": [
        "counter = 1"
      ],
      "metadata": {
        "id": "-Y0-XA9CbNFw"
      },
      "execution_count": null,
      "outputs": []
    },
    {
      "cell_type": "code",
      "source": [
        "# γράψτε τη ζητούμενη εντολή ακριβώς κάτω από τα σχόλια και πριν την εντολή print(counter)\n",
        "# και τρέξτε το κελί 5-6 φορές\n",
        "# κάθε φορά που το τρέχετε, θα πρέπει ο αριθμός που τυπώνεται να είναι μεγαλύτερος από τον προηγούμενο κατά 1\n",
        "\n",
        "print(counter)\n",
        "counter = counter + 1"
      ],
      "metadata": {
        "id": "LkXxdJgUbvkQ",
        "colab": {
          "base_uri": "https://localhost:8080/"
        },
        "outputId": "353a8cc4-f4c7-467d-eda5-ead0d58cb12d"
      },
      "execution_count": null,
      "outputs": [
        {
          "output_type": "stream",
          "name": "stdout",
          "text": [
            "5\n"
          ]
        }
      ]
    }
  ]
}